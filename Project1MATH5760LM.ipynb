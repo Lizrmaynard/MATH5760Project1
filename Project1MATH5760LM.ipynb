{
 "cells": [
  {
   "cell_type": "markdown",
   "id": "118bb36d",
   "metadata": {},
   "source": [
    "# MATH 5760 Project 1\n",
    "\n",
    "### Elizabeth Maynard, Jackie Hammer, Amber Votek"
   ]
  },
  {
   "cell_type": "code",
   "execution_count": 37,
   "id": "d154477b",
   "metadata": {},
   "outputs": [],
   "source": [
    "import csv\n",
    "import pandas as pd\n",
    "import math as ma\n",
    "from scipy import stats\n",
    "import numpy as np\n",
    "from scipy.sparse import csc_matrix\n",
    "from scipy.stats import bernoulli\n",
    "from scipy.optimize import fsolve\n",
    "from scipy.stats import norm\n",
    "import matplotlib.pyplot as plt\n",
    "plt.style.use('ggplot')\n",
    "%matplotlib inline"
   ]
  },
  {
   "cell_type": "markdown",
   "id": "0c4df9c7",
   "metadata": {},
   "source": [
    "## Question 1)"
   ]
  },
  {
   "cell_type": "markdown",
   "id": "a2509021",
   "metadata": {},
   "source": [
    "Before we begin to analyze the data for Adobe, Delta Airlines, and Netflix, we will first declare the procedures we will use for the probabilities later in the problem."
   ]
  },
  {
   "cell_type": "markdown",
   "id": "91c561a8",
   "metadata": {},
   "source": [
    "#### Procedure for the probability P[-0.1<log(S(0.25)/S(0))<0.1]"
   ]
  },
  {
   "cell_type": "markdown",
   "id": "8d617825",
   "metadata": {},
   "source": [
    "$$log(\\frac{S(0.25)}{S(0)}) =log(S(0.25))-log(S(0))$$\n",
    "\n",
    "$$=log(S(0)e^{(\\mu*0.25+\\sigma*\\sqrt{0.25}*Z)})-log(S(0)) $$\n",
    "\n",
    "$$=log(S(0))+log(e^{(\\mu*0.25+\\sigma*\\sqrt{0.25}*Z)})-log(S(0))$$\n",
    "\n",
    "$$=\\mu*0.25+\\sigma*\\sqrt{0.25}*Z$$\n",
    "\n",
    "$$P[-0.1<log(\\frac{S(0.25)}{S(0)})<0.1] $$\n",
    "\n",
    "$$=P[-0.1<μ*0.25+σ*\\sqrt{0.25}*Z<0.1]$$ \n",
    "\n",
    "$$=P[\\frac{(-0.1-μ*0.25)}{(σ*\\sqrt{0.25})}<Z<\\frac{(0.1-μ*0.25)}{(σ*\\sqrt{0.25})}] $$\n",
    "\n",
    "$$=Φ(\\frac{(0.1-μ*0.25)}{(σ*\\sqrt{0.25})})-Φ(\\frac{(-0.1-μ*0.25)}{(σ*\\sqrt{0.25})})$$"
   ]
  },
  {
   "cell_type": "markdown",
   "id": "22c9a045",
   "metadata": {},
   "source": [
    "#### Procedure for the probability P[-0.1<log(S(0.5)/S(0))<0.1]"
   ]
  },
  {
   "cell_type": "markdown",
   "id": "bf083a50",
   "metadata": {},
   "source": [
    "$$log(\\frac{S(0.5)}{S(0)}) =log(S(0.5))-log(S(0))$$\n",
    "\n",
    "$$=log(S(0)e^{(\\mu*0.5+\\sigma*\\sqrt{0.5}*Z)})-log(S(0)) $$\n",
    "\n",
    "$$=log(S(0))+log(e^{(\\mu*0.5+\\sigma*\\sqrt{0.5}*Z)})-log(S(0))$$\n",
    "\n",
    "$$=\\mu*0.5+\\sigma*\\sqrt{0.5}*Z$$\n",
    "\n",
    "$$P[-0.1<log(\\frac{S(0.5)}{S(0)})<0.1] $$\n",
    "\n",
    "$$=P[-0.1<μ*0.5+σ*\\sqrt{0.5}*Z<0.1]$$ \n",
    "\n",
    "$$=P[\\frac{(-0.1-μ*0.5)}{(σ*\\sqrt{0.5})}<Z<\\frac{(0.1-μ*0.5)}{(σ*\\sqrt{0.5})}] $$\n",
    "\n",
    "$$=Φ(\\frac{(0.1-μ*0.5)}{(σ*\\sqrt{0.5})})-Φ(\\frac{(-0.1-μ*0.5)}{(σ*\\sqrt{0.5})})$$"
   ]
  },
  {
   "cell_type": "markdown",
   "id": "46c3a4ae",
   "metadata": {},
   "source": [
    "### Part 1: Adobe Data"
   ]
  },
  {
   "cell_type": "code",
   "execution_count": 2,
   "id": "5d2b4c94",
   "metadata": {},
   "outputs": [
    {
     "data": {
      "text/html": [
       "<div>\n",
       "<style scoped>\n",
       "    .dataframe tbody tr th:only-of-type {\n",
       "        vertical-align: middle;\n",
       "    }\n",
       "\n",
       "    .dataframe tbody tr th {\n",
       "        vertical-align: top;\n",
       "    }\n",
       "\n",
       "    .dataframe thead th {\n",
       "        text-align: right;\n",
       "    }\n",
       "</style>\n",
       "<table border=\"1\" class=\"dataframe\">\n",
       "  <thead>\n",
       "    <tr style=\"text-align: right;\">\n",
       "      <th></th>\n",
       "      <th>Date</th>\n",
       "      <th>Open</th>\n",
       "      <th>High</th>\n",
       "      <th>Low</th>\n",
       "      <th>Close</th>\n",
       "      <th>Adj Close</th>\n",
       "      <th>Volume</th>\n",
       "    </tr>\n",
       "  </thead>\n",
       "  <tbody>\n",
       "    <tr>\n",
       "      <th>0</th>\n",
       "      <td>2021-07-12</td>\n",
       "      <td>606.000000</td>\n",
       "      <td>607.419983</td>\n",
       "      <td>596.479980</td>\n",
       "      <td>600.200012</td>\n",
       "      <td>600.200012</td>\n",
       "      <td>1696200</td>\n",
       "    </tr>\n",
       "    <tr>\n",
       "      <th>1</th>\n",
       "      <td>2021-07-13</td>\n",
       "      <td>600.559998</td>\n",
       "      <td>609.330017</td>\n",
       "      <td>598.419983</td>\n",
       "      <td>605.010010</td>\n",
       "      <td>605.010010</td>\n",
       "      <td>1435600</td>\n",
       "    </tr>\n",
       "    <tr>\n",
       "      <th>2</th>\n",
       "      <td>2021-07-14</td>\n",
       "      <td>608.140015</td>\n",
       "      <td>611.299988</td>\n",
       "      <td>604.010010</td>\n",
       "      <td>608.830017</td>\n",
       "      <td>608.830017</td>\n",
       "      <td>1376900</td>\n",
       "    </tr>\n",
       "    <tr>\n",
       "      <th>3</th>\n",
       "      <td>2021-07-15</td>\n",
       "      <td>608.400024</td>\n",
       "      <td>609.950012</td>\n",
       "      <td>602.650024</td>\n",
       "      <td>606.169983</td>\n",
       "      <td>606.169983</td>\n",
       "      <td>1618100</td>\n",
       "    </tr>\n",
       "    <tr>\n",
       "      <th>4</th>\n",
       "      <td>2021-07-16</td>\n",
       "      <td>608.710022</td>\n",
       "      <td>611.619995</td>\n",
       "      <td>603.659973</td>\n",
       "      <td>606.099976</td>\n",
       "      <td>606.099976</td>\n",
       "      <td>1249700</td>\n",
       "    </tr>\n",
       "  </tbody>\n",
       "</table>\n",
       "</div>"
      ],
      "text/plain": [
       "         Date        Open        High         Low       Close   Adj Close  \\\n",
       "0  2021-07-12  606.000000  607.419983  596.479980  600.200012  600.200012   \n",
       "1  2021-07-13  600.559998  609.330017  598.419983  605.010010  605.010010   \n",
       "2  2021-07-14  608.140015  611.299988  604.010010  608.830017  608.830017   \n",
       "3  2021-07-15  608.400024  609.950012  602.650024  606.169983  606.169983   \n",
       "4  2021-07-16  608.710022  611.619995  603.659973  606.099976  606.099976   \n",
       "\n",
       "    Volume  \n",
       "0  1696200  \n",
       "1  1435600  \n",
       "2  1376900  \n",
       "3  1618100  \n",
       "4  1249700  "
      ]
     },
     "execution_count": 2,
     "metadata": {},
     "output_type": "execute_result"
    }
   ],
   "source": [
    "adobe = pd.read_csv(\"ADBE.csv\")\n",
    "adobe.head()"
   ]
  },
  {
   "cell_type": "code",
   "execution_count": 102,
   "id": "1bbda330",
   "metadata": {},
   "outputs": [
    {
     "data": {
      "text/plain": [
       "0         NaN\n",
       "1    0.008014\n",
       "2    0.006314\n",
       "3   -0.004369\n",
       "4   -0.000115\n",
       "Name: Adj Close, dtype: float64"
      ]
     },
     "execution_count": 102,
     "metadata": {},
     "output_type": "execute_result"
    }
   ],
   "source": [
    "dailyadberet = adobe['Adj Close'].pct_change()\n",
    "dailyadberet.head()"
   ]
  },
  {
   "cell_type": "code",
   "execution_count": 7,
   "id": "53d1ef57",
   "metadata": {},
   "outputs": [
    {
     "data": {
      "image/png": "[encoded data removed]",
      "text/plain": [
       "<Figure size 432x288 with 1 Axes>"
      ]
     },
     "metadata": {
      "needs_background": "light"
     },
     "output_type": "display_data"
    }
   ],
   "source": [
    "fig = plt.figure()\n",
    "ax1 = fig.add_axes([0.1,0.1,0.8,0.8])\n",
    "dailyadberet.plot.hist(bins = 15)\n",
    "ax1.set_xlabel(\"Daily returns %\")\n",
    "ax1.set_ylabel(\"Percent\")\n",
    "ax1.set_title(\"Adobe Daily Returns\")\n",
    "plt.show()"
   ]
  },
  {
   "cell_type": "code",
   "execution_count": 146,
   "id": "14ca6faf",
   "metadata": {},
   "outputs": [
    {
     "name": "stdout",
     "output_type": "stream",
     "text": [
      "Arithmetic Mu:  -16.234293614206212 %\n"
     ]
    }
   ],
   "source": [
    "dailyadbemean = dailyadberet.mean()\n",
    "annualadberet = dailyadberet.mean()*252\n",
    "print(\"Arithmetic Mu: \",annualadberet*100,\"%\")"
   ]
  },
  {
   "cell_type": "code",
   "execution_count": 147,
   "id": "218e7365",
   "metadata": {},
   "outputs": [
    {
     "name": "stdout",
     "output_type": "stream",
     "text": [
      "Arithmetic Sigma:  19.925185000446234 %\n"
     ]
    }
   ],
   "source": [
    "dailyadbevar = dailyadberet.var()\n",
    "estimadbevol = np.sqrt(dailyadberet.var()*252)\n",
    "print(\"Arithmetic Sigma: \",estimadbevol*100,\"%\")"
   ]
  },
  {
   "cell_type": "markdown",
   "id": "8b651800",
   "metadata": {},
   "source": [
    "#### Probability For Adobe Stock Using Arithmetic Mu and Sigma:"
   ]
  },
  {
   "cell_type": "markdown",
   "id": "19462fd2",
   "metadata": {},
   "source": [
    "$$μ=-0.16234$$\n",
    "\n",
    "$$σ=0.19925$$\n",
    "\n",
    "$$ P[-0.1<log(\\frac{S(0.25)}{S(0)})<0.1] =Φ(1.41)-Φ(-0.60) =0.9207-0.4761 =0.4446$$\n",
    "$$P[-0.1<log(\\frac{S(0.5)}{S(0)})<0.1] =Φ(1.29)-Φ(-0.13) =0.9015-0.4483 =0.4532$$\n",
    "\n"
   ]
  },
  {
   "cell_type": "markdown",
   "id": "c64b4c18",
   "metadata": {},
   "source": [
    "#### Using Log:"
   ]
  },
  {
   "cell_type": "code",
   "execution_count": 101,
   "id": "75e247f5",
   "metadata": {},
   "outputs": [
    {
     "data": {
      "text/plain": [
       "0         NaN\n",
       "1    0.007982\n",
       "2    0.006294\n",
       "3   -0.004379\n",
       "4   -0.000115\n",
       "Name: Adj Close, dtype: float64"
      ]
     },
     "execution_count": 101,
     "metadata": {},
     "output_type": "execute_result"
    }
   ],
   "source": [
    "logret = np.log(adobe['Adj Close']) - np.log(adobe['Adj Close'].shift(1))\n",
    "logret.head()"
   ]
  },
  {
   "cell_type": "code",
   "execution_count": 145,
   "id": "f61ee6f8",
   "metadata": {},
   "outputs": [
    {
     "name": "stdout",
     "output_type": "stream",
     "text": [
      "Logarithmic Mu:  -18.212932821236112 %\n"
     ]
    }
   ],
   "source": [
    "dailyadbemeanlog = logret.mean()\n",
    "annualadberetlog = logret.mean()*252\n",
    "print(\"Logarithmic Mu: \",annualadberetlog*100,\"%\")"
   ]
  },
  {
   "cell_type": "code",
   "execution_count": 144,
   "id": "427aae50",
   "metadata": {},
   "outputs": [
    {
     "name": "stdout",
     "output_type": "stream",
     "text": [
      "Logarithmic Sigma:  20.06711524616433 %\n"
     ]
    }
   ],
   "source": [
    "dailyadbevarlog = logret.var()\n",
    "estimadbevollog = np.sqrt(logret.var()*252)\n",
    "print(\"Logarithmic Sigma: \",estimadbevollog*100,\"%\")"
   ]
  },
  {
   "cell_type": "markdown",
   "id": "9944cef0",
   "metadata": {},
   "source": [
    "#### Probability For Adobe Stock Using Logarithmic Mu and Sigma:"
   ]
  },
  {
   "cell_type": "markdown",
   "id": "f9364298",
   "metadata": {},
   "source": [
    "$$μ=-0.18213$$\n",
    "\n",
    "$$σ=0.20067$$\n",
    "\n",
    "$$P[-0.1<log(\\frac{S(0.25)}{S(0)})<0.1] =Φ(1.45)-Φ(-0.54) =0.9265-0.2946 =0.6319$$\n",
    "\n",
    "$$P[-0.1<log(\\frac{S(0.5)}{S(0)})<0.1] =Φ(1.35)-Φ(-0.06) =0.9115-0.4761 =0.4354$$"
   ]
  },
  {
   "cell_type": "markdown",
   "id": "03381099",
   "metadata": {},
   "source": [
    "### Part 2: Delta Airlines Data"
   ]
  },
  {
   "cell_type": "code",
   "execution_count": 73,
   "id": "3dad3a6c",
   "metadata": {},
   "outputs": [
    {
     "data": {
      "text/html": [
       "<div>\n",
       "<style scoped>\n",
       "    .dataframe tbody tr th:only-of-type {\n",
       "        vertical-align: middle;\n",
       "    }\n",
       "\n",
       "    .dataframe tbody tr th {\n",
       "        vertical-align: top;\n",
       "    }\n",
       "\n",
       "    .dataframe thead th {\n",
       "        text-align: right;\n",
       "    }\n",
       "</style>\n",
       "<table border=\"1\" class=\"dataframe\">\n",
       "  <thead>\n",
       "    <tr style=\"text-align: right;\">\n",
       "      <th></th>\n",
       "      <th>Date</th>\n",
       "      <th>Open</th>\n",
       "      <th>High</th>\n",
       "      <th>Low</th>\n",
       "      <th>Close</th>\n",
       "      <th>Adj Close</th>\n",
       "      <th>Volume</th>\n",
       "    </tr>\n",
       "  </thead>\n",
       "  <tbody>\n",
       "    <tr>\n",
       "      <th>0</th>\n",
       "      <td>2021-07-19</td>\n",
       "      <td>38.270000</td>\n",
       "      <td>39.000000</td>\n",
       "      <td>37.560001</td>\n",
       "      <td>38.560001</td>\n",
       "      <td>38.560001</td>\n",
       "      <td>27073800</td>\n",
       "    </tr>\n",
       "    <tr>\n",
       "      <th>1</th>\n",
       "      <td>2021-07-20</td>\n",
       "      <td>38.630001</td>\n",
       "      <td>40.820000</td>\n",
       "      <td>38.430000</td>\n",
       "      <td>40.660000</td>\n",
       "      <td>40.660000</td>\n",
       "      <td>17690600</td>\n",
       "    </tr>\n",
       "    <tr>\n",
       "      <th>2</th>\n",
       "      <td>2021-07-21</td>\n",
       "      <td>41.009998</td>\n",
       "      <td>42.200001</td>\n",
       "      <td>41.000000</td>\n",
       "      <td>41.610001</td>\n",
       "      <td>41.610001</td>\n",
       "      <td>19145300</td>\n",
       "    </tr>\n",
       "    <tr>\n",
       "      <th>3</th>\n",
       "      <td>2021-07-22</td>\n",
       "      <td>41.340000</td>\n",
       "      <td>41.560001</td>\n",
       "      <td>40.410000</td>\n",
       "      <td>41.060001</td>\n",
       "      <td>41.060001</td>\n",
       "      <td>10850600</td>\n",
       "    </tr>\n",
       "    <tr>\n",
       "      <th>4</th>\n",
       "      <td>2021-07-23</td>\n",
       "      <td>41.320000</td>\n",
       "      <td>41.630001</td>\n",
       "      <td>40.320000</td>\n",
       "      <td>40.410000</td>\n",
       "      <td>40.410000</td>\n",
       "      <td>10101600</td>\n",
       "    </tr>\n",
       "  </tbody>\n",
       "</table>\n",
       "</div>"
      ],
      "text/plain": [
       "         Date       Open       High        Low      Close  Adj Close    Volume\n",
       "0  2021-07-19  38.270000  39.000000  37.560001  38.560001  38.560001  27073800\n",
       "1  2021-07-20  38.630001  40.820000  38.430000  40.660000  40.660000  17690600\n",
       "2  2021-07-21  41.009998  42.200001  41.000000  41.610001  41.610001  19145300\n",
       "3  2021-07-22  41.340000  41.560001  40.410000  41.060001  41.060001  10850600\n",
       "4  2021-07-23  41.320000  41.630001  40.320000  40.410000  40.410000  10101600"
      ]
     },
     "execution_count": 73,
     "metadata": {},
     "output_type": "execute_result"
    }
   ],
   "source": [
    "deltaair = pd.read_csv(\"DAL.csv\")\n",
    "deltaair.head()"
   ]
  },
  {
   "cell_type": "code",
   "execution_count": 74,
   "id": "32ed3576",
   "metadata": {},
   "outputs": [
    {
     "data": {
      "text/plain": [
       "0         NaN\n",
       "1    0.054461\n",
       "2    0.023365\n",
       "3   -0.013218\n",
       "4   -0.015831\n",
       "Name: Adj Close, dtype: float64"
      ]
     },
     "execution_count": 74,
     "metadata": {},
     "output_type": "execute_result"
    }
   ],
   "source": [
    "dailydeltaret = deltaair['Adj Close'].pct_change()\n",
    "dailydeltaret.head()"
   ]
  },
  {
   "cell_type": "code",
   "execution_count": 78,
   "id": "e677e69e",
   "metadata": {},
   "outputs": [
    {
     "data": {
      "image/png": "[encoded data removed]",
      "text/plain": [
       "<Figure size 432x288 with 1 Axes>"
      ]
     },
     "metadata": {
      "needs_background": "light"
     },
     "output_type": "display_data"
    }
   ],
   "source": [
    "fig = plt.figure()\n",
    "ax1 = fig.add_axes([0.1,0.1,0.8,0.8])\n",
    "dailydeltaret.plot.hist(bins = 15,color='g')\n",
    "ax1.set_xlabel(\"Daily returns %\")\n",
    "ax1.set_ylabel(\"Percent\")\n",
    "ax1.set_title(\"Delta Daily Returns\")\n",
    "plt.show()"
   ]
  },
  {
   "cell_type": "code",
   "execution_count": 141,
   "id": "0e1dfd1f",
   "metadata": {},
   "outputs": [
    {
     "name": "stdout",
     "output_type": "stream",
     "text": [
      "Arithmetic Mu:  31.131585206299526 %\n"
     ]
    }
   ],
   "source": [
    "dailydeltamean = dailydeltaret.mean()\n",
    "annualdeltaret = dailydeltaret.mean()*252\n",
    "print(\"Arithmetic Mu: \",annualdeltaret*100,\"%\")"
   ]
  },
  {
   "cell_type": "code",
   "execution_count": 143,
   "id": "da75c563",
   "metadata": {},
   "outputs": [
    {
     "name": "stdout",
     "output_type": "stream",
     "text": [
      "Arithmetic Sigma:  36.899829636734204 %\n"
     ]
    }
   ],
   "source": [
    "dailydeltavar = dailydeltaret.var()\n",
    "estimdeltavol = np.sqrt(dailydeltaret.var()*252)\n",
    "print(\"Arithmetic Sigma: \",estimdeltavol*100,\"%\")"
   ]
  },
  {
   "cell_type": "markdown",
   "id": "e100f64a",
   "metadata": {},
   "source": [
    "#### Probability For Delta Airlines Using Arithmetic Mu and Sigma:"
   ]
  },
  {
   "cell_type": "markdown",
   "id": "cc137f38",
   "metadata": {},
   "source": [
    "$$μ=0.31132$$\n",
    "\n",
    "$$σ=0.36890$$\n",
    "\n",
    "$$P[-0.1<log(\\frac{S(0.25)}{S(0)})<0.1] =Φ(0.12)-Φ(-0.96) =0.4522-0.1685 =0.2837$$\n",
    "\n",
    "$$P[-0.1<log(\\frac{S(0.5)}{S(0)})<0.1] =Φ(-0.21)-Φ(-0.98) =0.4168-0.1635 =0.2533$$"
   ]
  },
  {
   "cell_type": "markdown",
   "id": "505388f3",
   "metadata": {},
   "source": [
    "#### Using Log:"
   ]
  },
  {
   "cell_type": "code",
   "execution_count": 100,
   "id": "89428ef0",
   "metadata": {},
   "outputs": [
    {
     "data": {
      "text/plain": [
       "0         NaN\n",
       "1    0.053029\n",
       "2    0.023096\n",
       "3   -0.013306\n",
       "4   -0.015957\n",
       "Name: Adj Close, dtype: float64"
      ]
     },
     "execution_count": 100,
     "metadata": {},
     "output_type": "execute_result"
    }
   ],
   "source": [
    "logretdel = np.log(deltaair['Adj Close']) - np.log(deltaair['Adj Close'].shift(1))\n",
    "logretdel.head()"
   ]
  },
  {
   "cell_type": "code",
   "execution_count": 90,
   "id": "c69404ca",
   "metadata": {},
   "outputs": [
    {
     "name": "stdout",
     "output_type": "stream",
     "text": [
      "Log Mu:  24.44507505307154 %\n"
     ]
    }
   ],
   "source": [
    "dailydeltameanlog = logretdel.mean()\n",
    "annualdeltaretlog = logretdel.mean()*252\n",
    "print(\"Logarithmic Mu: \",annualdeltaretlog*100,\"%\")"
   ]
  },
  {
   "cell_type": "code",
   "execution_count": 89,
   "id": "610a4331",
   "metadata": {},
   "outputs": [
    {
     "name": "stdout",
     "output_type": "stream",
     "text": [
      "Log Sigma:  36.79045801792152 %\n"
     ]
    }
   ],
   "source": [
    "dailydeltavarlog = logretdel.var()\n",
    "estimdeltavollog = np.sqrt(logretdel.var()*252)\n",
    "print(\"Logarithmic Sigma: \",estimdeltavollog*100,\"%\")"
   ]
  },
  {
   "cell_type": "markdown",
   "id": "df5178be",
   "metadata": {},
   "source": [
    "#### Probability For Delta Airlines Stock Using Logarithmic Mu and Sigma:"
   ]
  },
  {
   "cell_type": "markdown",
   "id": "3f297c24",
   "metadata": {},
   "source": [
    "$$μ=0.24445$$\n",
    "\n",
    "$$σ=0.36790$$\n",
    "\n",
    "$$P[-0.1<log(\\frac{S(0.25)}{S(0)})<0.1] =Φ(0.21)-Φ(-0.88) =0.5832-0.1894 =0.3938$$\n",
    "\n",
    "$$P[-0.1<log(\\frac{S(0.5)}{S(0)})<0.1] =Φ(-0.09)-Φ(-0.85) =0.4641-0.1977 =0.2664$$"
   ]
  },
  {
   "cell_type": "markdown",
   "id": "a0679846",
   "metadata": {},
   "source": [
    "### Part 3: Netflix Data"
   ]
  },
  {
   "cell_type": "code",
   "execution_count": 91,
   "id": "0134564d",
   "metadata": {},
   "outputs": [
    {
     "data": {
      "text/html": [
       "<div>\n",
       "<style scoped>\n",
       "    .dataframe tbody tr th:only-of-type {\n",
       "        vertical-align: middle;\n",
       "    }\n",
       "\n",
       "    .dataframe tbody tr th {\n",
       "        vertical-align: top;\n",
       "    }\n",
       "\n",
       "    .dataframe thead th {\n",
       "        text-align: right;\n",
       "    }\n",
       "</style>\n",
       "<table border=\"1\" class=\"dataframe\">\n",
       "  <thead>\n",
       "    <tr style=\"text-align: right;\">\n",
       "      <th></th>\n",
       "      <th>Date</th>\n",
       "      <th>Open</th>\n",
       "      <th>High</th>\n",
       "      <th>Low</th>\n",
       "      <th>Close</th>\n",
       "      <th>Adj Close</th>\n",
       "      <th>Volume</th>\n",
       "    </tr>\n",
       "  </thead>\n",
       "  <tbody>\n",
       "    <tr>\n",
       "      <th>0</th>\n",
       "      <td>2021-07-19</td>\n",
       "      <td>526.049988</td>\n",
       "      <td>534.909973</td>\n",
       "      <td>522.239990</td>\n",
       "      <td>532.280029</td>\n",
       "      <td>532.280029</td>\n",
       "      <td>3885800</td>\n",
       "    </tr>\n",
       "    <tr>\n",
       "      <th>1</th>\n",
       "      <td>2021-07-20</td>\n",
       "      <td>526.070007</td>\n",
       "      <td>536.640015</td>\n",
       "      <td>520.299988</td>\n",
       "      <td>531.049988</td>\n",
       "      <td>531.049988</td>\n",
       "      <td>6930400</td>\n",
       "    </tr>\n",
       "    <tr>\n",
       "      <th>2</th>\n",
       "      <td>2021-07-21</td>\n",
       "      <td>526.130005</td>\n",
       "      <td>530.989990</td>\n",
       "      <td>505.609985</td>\n",
       "      <td>513.630005</td>\n",
       "      <td>513.630005</td>\n",
       "      <td>11906800</td>\n",
       "    </tr>\n",
       "    <tr>\n",
       "      <th>3</th>\n",
       "      <td>2021-07-22</td>\n",
       "      <td>510.209991</td>\n",
       "      <td>513.679993</td>\n",
       "      <td>507.000000</td>\n",
       "      <td>511.769989</td>\n",
       "      <td>511.769989</td>\n",
       "      <td>4328100</td>\n",
       "    </tr>\n",
       "    <tr>\n",
       "      <th>4</th>\n",
       "      <td>2021-07-23</td>\n",
       "      <td>512.159973</td>\n",
       "      <td>517.409973</td>\n",
       "      <td>504.660004</td>\n",
       "      <td>515.409973</td>\n",
       "      <td>515.409973</td>\n",
       "      <td>3820500</td>\n",
       "    </tr>\n",
       "  </tbody>\n",
       "</table>\n",
       "</div>"
      ],
      "text/plain": [
       "         Date        Open        High         Low       Close   Adj Close  \\\n",
       "0  2021-07-19  526.049988  534.909973  522.239990  532.280029  532.280029   \n",
       "1  2021-07-20  526.070007  536.640015  520.299988  531.049988  531.049988   \n",
       "2  2021-07-21  526.130005  530.989990  505.609985  513.630005  513.630005   \n",
       "3  2021-07-22  510.209991  513.679993  507.000000  511.769989  511.769989   \n",
       "4  2021-07-23  512.159973  517.409973  504.660004  515.409973  515.409973   \n",
       "\n",
       "     Volume  \n",
       "0   3885800  \n",
       "1   6930400  \n",
       "2  11906800  \n",
       "3   4328100  \n",
       "4   3820500  "
      ]
     },
     "execution_count": 91,
     "metadata": {},
     "output_type": "execute_result"
    }
   ],
   "source": [
    "netflix = pd.read_csv(\"NFLX.csv\")\n",
    "netflix.head()"
   ]
  },
  {
   "cell_type": "code",
   "execution_count": 92,
   "id": "3b839203",
   "metadata": {},
   "outputs": [
    {
     "data": {
      "text/plain": [
       "0         NaN\n",
       "1   -0.002311\n",
       "2   -0.032803\n",
       "3   -0.003621\n",
       "4    0.007113\n",
       "Name: Adj Close, dtype: float64"
      ]
     },
     "execution_count": 92,
     "metadata": {},
     "output_type": "execute_result"
    }
   ],
   "source": [
    "dailynflxret = netflix['Adj Close'].pct_change()\n",
    "dailynflxret.head()"
   ]
  },
  {
   "cell_type": "code",
   "execution_count": 94,
   "id": "a9fd4697",
   "metadata": {},
   "outputs": [
    {
     "data": {
      "image/png": "[encoded data removed]",
      "text/plain": [
       "<Figure size 432x288 with 1 Axes>"
      ]
     },
     "metadata": {
      "needs_background": "light"
     },
     "output_type": "display_data"
    }
   ],
   "source": [
    "fig = plt.figure()\n",
    "ax1 = fig.add_axes([0.1,0.1,0.8,0.8])\n",
    "dailynflxret.plot.hist(bins = 15,color='k')\n",
    "ax1.set_xlabel(\"Daily returns %\")\n",
    "ax1.set_ylabel(\"Percent\")\n",
    "ax1.set_title(\"Netflix Daily Returns\")\n",
    "plt.show()"
   ]
  },
  {
   "cell_type": "code",
   "execution_count": 140,
   "id": "25f4fe0b",
   "metadata": {},
   "outputs": [
    {
     "name": "stdout",
     "output_type": "stream",
     "text": [
      "Arithmetic Mu:  68.94618043457487 %\n"
     ]
    }
   ],
   "source": [
    "dailynflxmean = dailynflxret.mean()\n",
    "annualnflxret = dailynflxret.mean()*252\n",
    "print(\"Arithmetic Mu: \",annualnflxret*100,\"%\")"
   ]
  },
  {
   "cell_type": "code",
   "execution_count": 139,
   "id": "0a059d30",
   "metadata": {},
   "outputs": [
    {
     "name": "stdout",
     "output_type": "stream",
     "text": [
      "Arithmetic Sigma:  22.764033536807922 %\n"
     ]
    }
   ],
   "source": [
    "dailynflxvar = dailynflxret.var()\n",
    "estimnflxvol = np.sqrt(dailynflxret.var()*252)\n",
    "print(\"Arithmetic Sigma: \",estimnflxvol*100,\"%\")"
   ]
  },
  {
   "cell_type": "markdown",
   "id": "9cab1eeb",
   "metadata": {},
   "source": [
    "#### Probability For Netflix Stock Using Arithmetic Mu and Sigma:"
   ]
  },
  {
   "cell_type": "markdown",
   "id": "a39f8fd0",
   "metadata": {},
   "source": [
    "$$μ=0.68946$$\n",
    "\n",
    "$$σ=0.22764$$\n",
    "\n",
    "$$P[-0.1<log(\\frac{S(0.25)}{S(0)})<0.1] =Φ(-0.64)-Φ(-2.39) =0.2611-0.0084 =0.2527$$\n",
    "\n",
    "$$P[-0.1<log(\\frac{S(0.5)}{S(0)})<0.1] =Φ(-1.52)-Φ(-2.76) =0.0643-0.0021 =0.0622$$"
   ]
  },
  {
   "cell_type": "markdown",
   "id": "ddbc6766",
   "metadata": {},
   "source": [
    "#### Using Log:"
   ]
  },
  {
   "cell_type": "code",
   "execution_count": 99,
   "id": "33930c42",
   "metadata": {},
   "outputs": [
    {
     "data": {
      "text/plain": [
       "0         NaN\n",
       "1   -0.002314\n",
       "2   -0.033353\n",
       "3   -0.003628\n",
       "4    0.007087\n",
       "Name: Adj Close, dtype: float64"
      ]
     },
     "execution_count": 99,
     "metadata": {},
     "output_type": "execute_result"
    }
   ],
   "source": [
    "logretnflx = np.log(netflix['Adj Close']) - np.log(netflix['Adj Close'].shift(1))\n",
    "logretnflx.head()"
   ]
  },
  {
   "cell_type": "code",
   "execution_count": 138,
   "id": "13b491a9",
   "metadata": {},
   "outputs": [
    {
     "name": "stdout",
     "output_type": "stream",
     "text": [
      "Logarithmic Mu:  66.33283485788297 %\n"
     ]
    }
   ],
   "source": [
    "dailynflxmeanlog = logretnflx.mean()\n",
    "annualnflxretlog = logretnflx.mean()*252\n",
    "print(\"Logarithmic Mu: \",annualnflxretlog*100,\"%\")"
   ]
  },
  {
   "cell_type": "code",
   "execution_count": 137,
   "id": "7cbcc13d",
   "metadata": {},
   "outputs": [
    {
     "name": "stdout",
     "output_type": "stream",
     "text": [
      "Logarithmic Sigma:  22.590228015450144 %\n"
     ]
    }
   ],
   "source": [
    "dailynflxvarlog = logretnflx.var()\n",
    "estimnflxvollog = np.sqrt(logretnflx.var()*252)\n",
    "print(\"Logarithmic Sigma: \",estimnflxvollog*100,\"%\")"
   ]
  },
  {
   "cell_type": "markdown",
   "id": "5a5b3ea7",
   "metadata": {},
   "source": [
    "#### Probability For Netflix Stock Using Logarithmic Mu and Sigma:"
   ]
  },
  {
   "cell_type": "markdown",
   "id": "caffdff5",
   "metadata": {},
   "source": [
    "$$μ=0.66333$$\n",
    "\n",
    "$$σ=0.22590$$\n",
    "\n",
    "$$P[-0.1<log(\\frac{S(0.25)}{S(0)})<0.1] =Φ(-0.58)-Φ(-2.35) =0.2810-0.0094 =0.2716$$\n",
    "\n",
    "$$P[-0.1<log(\\frac{S(0.5)}{S(0)})<0.1] =Φ(-1.45)-Φ(-2.70) =0.0735-0.0035 =0.0700$$"
   ]
  },
  {
   "cell_type": "markdown",
   "id": "34cfbd81",
   "metadata": {},
   "source": [
    "### Arithmetic Return Probabilities Explanation"
   ]
  },
  {
   "cell_type": "markdown",
   "id": "b48066de",
   "metadata": {},
   "source": [
    "The expressions log(S(0.25)/S(0)) and log(S(0.5)/S(0)) represent the log returns for each stock that can be expected after specific periods of time, that is, t=0.25 (3 months) and t=0.5 (6 months) respectively. The probability that this value will lie in the interval [-0.1,0.1) gives us an idea of how close to zero we can expect the returns to be over the specified interval of time (more time => greater accuracy). A probability of one would represent a guarantee that the magnitude of the returns will be low, while a probability of zero would guarantee that the returns are far from zero."
   ]
  },
  {
   "cell_type": "markdown",
   "id": "12c59517",
   "metadata": {},
   "source": [
    "### Logarithmic vs. Arithmetic Return Differences"
   ]
  },
  {
   "cell_type": "markdown",
   "id": "aff5f951",
   "metadata": {},
   "source": [
    "The means and volatilities calculated using logarithmic returns yielded significantly higher disparities between the calculated probabilities when compared with the ones calculated using arithmetic returns. The longer the period of time that you are examining is, the more certain you become that your returns will or will not lie in the interval [-0.1,0.1). In the case of these stocks, the logarithmic data shows with greater certainty that the returns will not be in that interval, which we know from the low calculated probabilities. "
   ]
  },
  {
   "cell_type": "markdown",
   "id": "bfc5a3d6",
   "metadata": {},
   "source": [
    "## Question 2)"
   ]
  },
  {
   "cell_type": "code",
   "execution_count": 59,
   "id": "7cdfc1d4",
   "metadata": {},
   "outputs": [],
   "source": [
    "#Binomial Model\n",
    "def binomialmod(S0,Time,rfi,sig,FS,Nstep):\n",
    "    deltat = Time/Nstep\n",
    "    \n",
    "    uval = ma.exp(sig*ma.sqrt(deltat))\n",
    "    \n",
    "    dval = 1/uval\n",
    "    \n",
    "    pval = (ma.exp(rfi*deltat)-dval)/(uval-dval)\n",
    "    \n",
    "    Res = {}\n",
    "    \n",
    "    for aval in range(0,Nstep+1):\n",
    "            Res[(Nstep,aval)] = FS(S0*(uval**(2*aval-Nstep)))\n",
    "            \n",
    "    for bval in range(Nstep-1,-1,-1):\n",
    "        for evl in range(0,bval+1):\n",
    "            Res[(bval,evl)]=(pval*Res[(bval+1,evl+1)]*ma.exp(-rfi*deltat)+Res[(bval+1,evl)])*(1-pval)\n",
    "            \n",
    "    return Res[(0 , 0)]"
   ]
  },
  {
   "cell_type": "code",
   "execution_count": 60,
   "id": "ebf93072",
   "metadata": {},
   "outputs": [],
   "source": [
    "def callfunct(K):\n",
    "    return lambda S: max(S-K,0)\n",
    "\n",
    "def putfunct(K):\n",
    "    return lambda S: max(K-S,0)\n",
    "\n",
    "def futuresfunct(K):\n",
    "    return lambda S: (S-K)"
   ]
  },
  {
   "cell_type": "markdown",
   "id": "c7626745",
   "metadata": {},
   "source": [
    "## Question 3)"
   ]
  },
  {
   "cell_type": "code",
   "execution_count": 105,
   "id": "514bdc05",
   "metadata": {},
   "outputs": [],
   "source": [
    "#Black Scholes Model\n",
    "def call_pricebsm(sigma, S0, K, r, T):\n",
    "    d1 = np.multiply( 1. / sigma * np.divide(1., np.sqrt(T)),\n",
    "        np.log(S0/K) + (r + sigma**2 / 2.) * T  )\n",
    "    d2 = d1 - sigma * np.sqrt(T)\n",
    "    \n",
    "    Call = np.multiply(S0, norm.cdf(d1)) - \\\n",
    "        np.multiply(norm.cdf(d2) * K, np.exp(-r * T))\n",
    "    return Call\n",
    "\n",
    "def put_pricebsm(sigma, S0, K, r, T):\n",
    "    d1 = np.multiply( 1. / sigma * np.divide(1., np.sqrt(T)),\n",
    "        np.log(S0/K) + (r + sigma**2 / 2.) * T  )\n",
    "    d2 = d1 - sigma * np.sqrt(T)\n",
    "    \n",
    "    Put = -np.multiply(S0, norm.cdf(-d1)) + \\\n",
    "        np.multiply(norm.cdf(-d2) * K, np.exp(-r * T))\n",
    "    return Put"
   ]
  },
  {
   "cell_type": "markdown",
   "id": "aed524e1",
   "metadata": {},
   "source": [
    "### For Strike Price of 90:"
   ]
  },
  {
   "cell_type": "code",
   "execution_count": 106,
   "id": "dcf77d4a",
   "metadata": {},
   "outputs": [
    {
     "name": "stdout",
     "output_type": "stream",
     "text": [
      "For S0=100, K=90, T=.25, r=1%, volatility=10%, N=10, and a given function F(S):\n",
      "Call Price Binomial:  10.246082265415968\n",
      "Put Price Binomial:  0.021363281187323235\n",
      "Call Price Black-Scholes:  10.25084181445618\n",
      "Put Price Black-Scholes:  0.026122830227597982\n"
     ]
    }
   ],
   "source": [
    "print(\"For S0=100, K=90, T=.25, r=1%, volatility=10%, N=10, and a given function F(S):\")\n",
    "print(\"Call Price Binomial: \",binomialmod(100,.25,.01,.1,callfunct(90),10))\n",
    "print(\"Put Price Binomial: \",binomialmod(100,.25,.01,.1,putfunct(90),10))\n",
    "print(\"Call Price Black-Scholes: \",call_pricebsm(.1,100,90,.01,.25))\n",
    "print(\"Put Price Black-Scholes: \",put_pricebsm(.1,100,90,.01,.25))"
   ]
  },
  {
   "cell_type": "code",
   "execution_count": 107,
   "id": "1e937dc2",
   "metadata": {},
   "outputs": [
    {
     "name": "stdout",
     "output_type": "stream",
     "text": [
      "For S0=100, K=90, T=.25, r=1%, volatility=10%, N=20, and a given function F(S):\n",
      "Call Price Binomial:  10.249492103814337\n",
      "Put Price Binomial:  0.02477311958599558\n",
      "Call Price Black-Scholes:  10.25084181445618\n",
      "Put Price Black-Scholes:  0.026122830227597982\n"
     ]
    }
   ],
   "source": [
    "print(\"For S0=100, K=90, T=.25, r=1%, volatility=10%, N=20, and a given function F(S):\")\n",
    "print(\"Call Price Binomial: \",binomialmod(100,.25,.01,.1,callfunct(90),20))\n",
    "print(\"Put Price Binomial: \",binomialmod(100,.25,.01,.1,putfunct(90),20))\n",
    "print(\"Call Price Black-Scholes: \",call_pricebsm(.1,100,90,.01,.25))\n",
    "print(\"Put Price Black-Scholes: \",put_pricebsm(.1,100,90,.01,.25))"
   ]
  },
  {
   "cell_type": "code",
   "execution_count": 109,
   "id": "6aa41ae0",
   "metadata": {},
   "outputs": [
    {
     "name": "stdout",
     "output_type": "stream",
     "text": [
      "For S0=100, K=90, T=.25, r=1%, volatility=20%, N=10, and a given function F(S):\n",
      "Call Price Binomial:  10.932482811901938\n",
      "Put Price Binomial:  0.707763827673289\n",
      "Call Price Black-Scholes:  10.902314011554424\n",
      "Put Price Black-Scholes:  0.6775950273258271\n"
     ]
    }
   ],
   "source": [
    "print(\"For S0=100, K=90, T=.25, r=1%, volatility=20%, N=10, and a given function F(S):\")\n",
    "print(\"Call Price Binomial: \",binomialmod(100,.25,.01,.2,callfunct(90),10))\n",
    "print(\"Put Price Binomial: \",binomialmod(100,.25,.01,.2,putfunct(90),10))\n",
    "print(\"Call Price Black-Scholes: \",call_pricebsm(.2,100,90,.01,.25))\n",
    "print(\"Put Price Black-Scholes: \",put_pricebsm(.2,100,90,.01,.25))"
   ]
  },
  {
   "cell_type": "code",
   "execution_count": 110,
   "id": "5adc0e95",
   "metadata": {},
   "outputs": [
    {
     "name": "stdout",
     "output_type": "stream",
     "text": [
      "For S0=100, K=90, T=.25, r=1%, volatility=20%, N=20, and a given function F(S):\n",
      "Call Price Binomial:  10.912899905326677\n",
      "Put Price Binomial:  0.6881809210983297\n",
      "Call Price Black-Scholes:  10.902314011554424\n",
      "Put Price Black-Scholes:  0.6775950273258271\n"
     ]
    }
   ],
   "source": [
    "print(\"For S0=100, K=90, T=.25, r=1%, volatility=20%, N=20, and a given function F(S):\")\n",
    "print(\"Call Price Binomial: \",binomialmod(100,.25,.01,.2,callfunct(90),20))\n",
    "print(\"Put Price Binomial: \",binomialmod(100,.25,.01,.2,putfunct(90),20))\n",
    "print(\"Call Price Black-Scholes: \",call_pricebsm(.2,100,90,.01,.25))\n",
    "print(\"Put Price Black-Scholes: \",put_pricebsm(.2,100,90,.01,.25))"
   ]
  },
  {
   "cell_type": "code",
   "execution_count": 111,
   "id": "558d8748",
   "metadata": {},
   "outputs": [
    {
     "name": "stdout",
     "output_type": "stream",
     "text": [
      "For S0=100, K=90, T=.25, r=1%, volatility=30%, N=10, and a given function F(S):\n",
      "Call Price Binomial:  12.137227309771623\n",
      "Put Price Binomial:  1.9125083255430133\n",
      "Call Price Black-Scholes:  12.187462725342016\n",
      "Put Price Black-Scholes:  1.9627437411134387\n"
     ]
    }
   ],
   "source": [
    "print(\"For S0=100, K=90, T=.25, r=1%, volatility=30%, N=10, and a given function F(S):\")\n",
    "print(\"Call Price Binomial: \",binomialmod(100,.25,.01,.3,callfunct(90),10))\n",
    "print(\"Put Price Binomial: \",binomialmod(100,.25,.01,.3,putfunct(90),10))\n",
    "print(\"Call Price Black-Scholes: \",call_pricebsm(.3,100,90,.01,.25))\n",
    "print(\"Put Price Black-Scholes: \",put_pricebsm(.3,100,90,.01,.25))"
   ]
  },
  {
   "cell_type": "code",
   "execution_count": 112,
   "id": "00855405",
   "metadata": {},
   "outputs": [
    {
     "name": "stdout",
     "output_type": "stream",
     "text": [
      "For S0=100, K=90, T=.25, r=1%, volatility=30%, N=20, and a given function F(S):\n",
      "Call Price Binomial:  12.233246022310482\n",
      "Put Price Binomial:  2.008527038082104\n",
      "Call Price Black-Scholes:  12.187462725342016\n",
      "Put Price Black-Scholes:  1.9627437411134387\n"
     ]
    }
   ],
   "source": [
    "print(\"For S0=100, K=90, T=.25, r=1%, volatility=30%, N=20, and a given function F(S):\")\n",
    "print(\"Call Price Binomial: \",binomialmod(100,.25,.01,.3,callfunct(90),20))\n",
    "print(\"Put Price Binomial: \",binomialmod(100,.25,.01,.3,putfunct(90),20))\n",
    "print(\"Call Price Black-Scholes: \",call_pricebsm(.3,100,90,.01,.25))\n",
    "print(\"Put Price Black-Scholes: \",put_pricebsm(.3,100,90,.01,.25))"
   ]
  },
  {
   "cell_type": "markdown",
   "id": "87f79269",
   "metadata": {},
   "source": [
    "### For Strike Price of 95:"
   ]
  },
  {
   "cell_type": "code",
   "execution_count": 113,
   "id": "b38468ba",
   "metadata": {},
   "outputs": [
    {
     "name": "stdout",
     "output_type": "stream",
     "text": [
      "For S0=100, K=95, T=.25, r=1%, volatility=10%, N=10, and a given function F(S):\n",
      "Call Price Binomial:  5.605849489885704\n",
      "Put Price Binomial:  0.368646117644362\n",
      "Call Price Black-Scholes:  5.587372578104066\n",
      "Put Price Black-Scholes:  0.35016920586276257\n"
     ]
    }
   ],
   "source": [
    "print(\"For S0=100, K=95, T=.25, r=1%, volatility=10%, N=10, and a given function F(S):\")\n",
    "print(\"Call Price Binomial: \",binomialmod(100,.25,.01,.1,callfunct(95),10))\n",
    "print(\"Put Price Binomial: \",binomialmod(100,.25,.01,.1,putfunct(95),10))\n",
    "print(\"Call Price Black-Scholes: \",call_pricebsm(.1,100,95,.01,.25))\n",
    "print(\"Put Price Black-Scholes: \",put_pricebsm(.1,100,95,.01,.25))"
   ]
  },
  {
   "cell_type": "code",
   "execution_count": 114,
   "id": "7b1b0a03",
   "metadata": {},
   "outputs": [
    {
     "name": "stdout",
     "output_type": "stream",
     "text": [
      "For S0=100, K=95, T=.25, r=1%, volatility=10%, N=20, and a given function F(S):\n",
      "Call Price Binomial:  5.590591094715872\n",
      "Put Price Binomial:  0.3533877224748384\n",
      "Call Price Black-Scholes:  5.587372578104066\n",
      "Put Price Black-Scholes:  0.35016920586276257\n"
     ]
    }
   ],
   "source": [
    "print(\"For S0=100, K=95, T=.25, r=1%, volatility=10%, N=20, and a given function F(S):\")\n",
    "print(\"Call Price Binomial: \",binomialmod(100,.25,.01,.1,callfunct(95),20))\n",
    "print(\"Put Price Binomial: \",binomialmod(100,.25,.01,.1,putfunct(95),20))\n",
    "print(\"Call Price Black-Scholes: \",call_pricebsm(.1,100,95,.01,.25))\n",
    "print(\"Put Price Black-Scholes: \",put_pricebsm(.1,100,95,.01,.25))"
   ]
  },
  {
   "cell_type": "code",
   "execution_count": 115,
   "id": "11b88c91",
   "metadata": {},
   "outputs": [
    {
     "name": "stdout",
     "output_type": "stream",
     "text": [
      "For S0=100, K=95, T=.25, r=1%, volatility=20%, N=10, and a given function F(S):\n",
      "Call Price Binomial:  7.069421614109351\n",
      "Put Price Binomial:  1.8322182418680015\n",
      "Call Price Black-Scholes:  7.050014923545632\n",
      "Put Price Black-Scholes:  1.8128115513043639\n"
     ]
    }
   ],
   "source": [
    "print(\"For S0=100, K=95, T=.25, r=1%, volatility=20%, N=10, and a given function F(S):\")\n",
    "print(\"Call Price Binomial: \",binomialmod(100,.25,.01,.2,callfunct(95),10))\n",
    "print(\"Put Price Binomial: \",binomialmod(100,.25,.01,.2,putfunct(95),10))\n",
    "print(\"Call Price Black-Scholes: \",call_pricebsm(.2,100,95,.01,.25))\n",
    "print(\"Put Price Black-Scholes: \",put_pricebsm(.2,100,95,.01,.25))"
   ]
  },
  {
   "cell_type": "code",
   "execution_count": 116,
   "id": "306e3aad",
   "metadata": {},
   "outputs": [
    {
     "name": "stdout",
     "output_type": "stream",
     "text": [
      "For S0=100, K=95, T=.25, r=1%, volatility=20%, N=20, and a given function F(S):\n",
      "Call Price Binomial:  7.04447324282766\n",
      "Put Price Binomial:  1.8072698705866264\n",
      "Call Price Black-Scholes:  7.050014923545632\n",
      "Put Price Black-Scholes:  1.8128115513043639\n"
     ]
    }
   ],
   "source": [
    "print(\"For S0=100, K=95, T=.25, r=1%, volatility=20%, N=20, and a given function F(S):\")\n",
    "print(\"Call Price Binomial: \",binomialmod(100,.25,.01,.2,callfunct(95),20))\n",
    "print(\"Put Price Binomial: \",binomialmod(100,.25,.01,.2,putfunct(95),20))\n",
    "print(\"Call Price Black-Scholes: \",call_pricebsm(.2,100,95,.01,.25))\n",
    "print(\"Put Price Black-Scholes: \",put_pricebsm(.2,100,95,.01,.25))"
   ]
  },
  {
   "cell_type": "code",
   "execution_count": 117,
   "id": "211b20ff",
   "metadata": {},
   "outputs": [
    {
     "name": "stdout",
     "output_type": "stream",
     "text": [
      "For S0=100, K=95, T=.25, r=1%, volatility=30%, N=10, and a given function F(S):\n",
      "Call Price Binomial:  8.942807258479458\n",
      "Put Price Binomial:  3.705603886238148\n",
      "Call Price Black-Scholes:  8.810191209069345\n",
      "Put Price Black-Scholes:  3.572987836828048\n"
     ]
    }
   ],
   "source": [
    "print(\"For S0=100, K=95, T=.25, r=1%, volatility=30%, N=10, and a given function F(S):\")\n",
    "print(\"Call Price Binomial: \",binomialmod(100,.25,.01,.3,callfunct(95),10))\n",
    "print(\"Put Price Binomial: \",binomialmod(100,.25,.01,.3,putfunct(95),10))\n",
    "print(\"Call Price Black-Scholes: \",call_pricebsm(.3,100,95,.01,.25))\n",
    "print(\"Put Price Black-Scholes: \",put_pricebsm(.3,100,95,.01,.25))"
   ]
  },
  {
   "cell_type": "code",
   "execution_count": 118,
   "id": "553daf95",
   "metadata": {},
   "outputs": [
    {
     "name": "stdout",
     "output_type": "stream",
     "text": [
      "For S0=100, K=95, T=.25, r=1%, volatility=30%, N=20, and a given function F(S):\n",
      "Call Price Binomial:  8.8404288991822\n",
      "Put Price Binomial:  3.60322552694113\n",
      "Call Price Black-Scholes:  8.810191209069345\n",
      "Put Price Black-Scholes:  3.572987836828048\n"
     ]
    }
   ],
   "source": [
    "print(\"For S0=100, K=95, T=.25, r=1%, volatility=30%, N=20, and a given function F(S):\")\n",
    "print(\"Call Price Binomial: \",binomialmod(100,.25,.01,.3,callfunct(95),20))\n",
    "print(\"Put Price Binomial: \",binomialmod(100,.25,.01,.3,putfunct(95),20))\n",
    "print(\"Call Price Black-Scholes: \",call_pricebsm(.3,100,95,.01,.25))\n",
    "print(\"Put Price Black-Scholes: \",put_pricebsm(.3,100,95,.01,.25))"
   ]
  },
  {
   "cell_type": "markdown",
   "id": "60b88559",
   "metadata": {},
   "source": [
    "### For Strike Price of 100:"
   ]
  },
  {
   "cell_type": "code",
   "execution_count": 119,
   "id": "7a1d6742",
   "metadata": {},
   "outputs": [
    {
     "name": "stdout",
     "output_type": "stream",
     "text": [
      "For S0=100, K=100, T=.25, r=1%, volatility=10%, N=10, and a given function F(S):\n",
      "Call Price Binomial:  2.070182299329267\n",
      "Put Price Binomial:  1.8204945390752263\n",
      "Call Price Black-Scholes:  2.1193464816249374\n",
      "Put Price Black-Scholes:  1.8696587213709392\n"
     ]
    }
   ],
   "source": [
    "print(\"For S0=100, K=100, T=.25, r=1%, volatility=10%, N=10, and a given function F(S):\")\n",
    "print(\"Call Price Binomial: \",binomialmod(100,.25,.01,.1,callfunct(100),10))\n",
    "print(\"Put Price Binomial: \",binomialmod(100,.25,.01,.1,putfunct(100),10))\n",
    "print(\"Call Price Black-Scholes: \",call_pricebsm(.1,100,100,.01,.25))\n",
    "print(\"Put Price Black-Scholes: \",put_pricebsm(.1,100,100,.01,.25))"
   ]
  },
  {
   "cell_type": "code",
   "execution_count": 120,
   "id": "761835a7",
   "metadata": {},
   "outputs": [
    {
     "name": "stdout",
     "output_type": "stream",
     "text": [
      "For S0=100, K=100, T=.25, r=1%, volatility=10%, N=20, and a given function F(S):\n",
      "Call Price Binomial:  2.0945806783047494\n",
      "Put Price Binomial:  1.8448929180510218\n",
      "Call Price Black-Scholes:  2.1193464816249374\n",
      "Put Price Black-Scholes:  1.8696587213709392\n"
     ]
    }
   ],
   "source": [
    "print(\"For S0=100, K=100, T=.25, r=1%, volatility=10%, N=20, and a given function F(S):\")\n",
    "print(\"Call Price Binomial: \",binomialmod(100,.25,.01,.1,callfunct(100),20))\n",
    "print(\"Put Price Binomial: \",binomialmod(100,.25,.01,.1,putfunct(100),20))\n",
    "print(\"Call Price Black-Scholes: \",call_pricebsm(.1,100,100,.01,.25))\n",
    "print(\"Put Price Black-Scholes: \",put_pricebsm(.1,100,100,.01,.25))"
   ]
  },
  {
   "cell_type": "code",
   "execution_count": 121,
   "id": "738b7180",
   "metadata": {},
   "outputs": [
    {
     "name": "stdout",
     "output_type": "stream",
     "text": [
      "For S0=100, K=100, T=.25, r=1%, volatility=20%, N=10, and a given function F(S):\n",
      "Call Price Binomial:  4.010664304717702\n",
      "Put Price Binomial:  3.7609765444636563\n",
      "Call Price Black-Scholes:  4.108870089208018\n",
      "Put Price Black-Scholes:  3.85918232895402\n"
     ]
    }
   ],
   "source": [
    "print(\"For S0=100, K=100, T=.25, r=1%, volatility=20%, N=10, and a given function F(S):\")\n",
    "print(\"Call Price Binomial: \",binomialmod(100,.25,.01,.2,callfunct(100),10))\n",
    "print(\"Put Price Binomial: \",binomialmod(100,.25,.01,.2,putfunct(100),10))\n",
    "print(\"Call Price Black-Scholes: \",call_pricebsm(.2,100,100,.01,.25))\n",
    "print(\"Put Price Black-Scholes: \",put_pricebsm(.2,100,100,.01,.25))"
   ]
  },
  {
   "cell_type": "code",
   "execution_count": 122,
   "id": "819baf37",
   "metadata": {},
   "outputs": [
    {
     "name": "stdout",
     "output_type": "stream",
     "text": [
      "For S0=100, K=100, T=.25, r=1%, volatility=20%, N=20, and a given function F(S):\n",
      "Call Price Binomial:  4.0594002302866246\n",
      "Put Price Binomial:  3.809712470032899\n",
      "Call Price Black-Scholes:  4.108870089208018\n",
      "Put Price Black-Scholes:  3.85918232895402\n"
     ]
    }
   ],
   "source": [
    "print(\"For S0=100, K=100, T=.25, r=1%, volatility=20%, N=20, and a given function F(S):\")\n",
    "print(\"Call Price Binomial: \",binomialmod(100,.25,.01,.2,callfunct(100),20))\n",
    "print(\"Put Price Binomial: \",binomialmod(100,.25,.01,.2,putfunct(100),20))\n",
    "print(\"Call Price Black-Scholes: \",call_pricebsm(.2,100,100,.01,.25))\n",
    "print(\"Put Price Black-Scholes: \",put_pricebsm(.2,100,100,.01,.25))"
   ]
  },
  {
   "cell_type": "code",
   "execution_count": 123,
   "id": "4ab6fbc5",
   "metadata": {},
   "outputs": [
    {
     "name": "stdout",
     "output_type": "stream",
     "text": [
      "For S0=100, K=100, T=.25, r=1%, volatility=30%, N=10, and a given function F(S):\n",
      "Call Price Binomial:  5.949530371576235\n",
      "Put Price Binomial:  5.699842611322231\n",
      "Call Price Black-Scholes:  6.096736604446896\n",
      "Put Price Black-Scholes:  5.847048844192912\n"
     ]
    }
   ],
   "source": [
    "print(\"For S0=100, K=100, T=.25, r=1%, volatility=30%, N=10, and a given function F(S):\")\n",
    "print(\"Call Price Binomial: \",binomialmod(100,.25,.01,.3,callfunct(100),10))\n",
    "print(\"Put Price Binomial: \",binomialmod(100,.25,.01,.3,putfunct(100),10))\n",
    "print(\"Call Price Black-Scholes: \",call_pricebsm(.3,100,100,.01,.25))\n",
    "print(\"Put Price Black-Scholes: \",put_pricebsm(.3,100,100,.01,.25))"
   ]
  },
  {
   "cell_type": "code",
   "execution_count": 124,
   "id": "3185ad20",
   "metadata": {},
   "outputs": [
    {
     "name": "stdout",
     "output_type": "stream",
     "text": [
      "For S0=100, K=100, T=.25, r=1%, volatility=30%, N=20, and a given function F(S):\n",
      "Call Price Binomial:  6.022583421394168\n",
      "Put Price Binomial:  5.772895661140405\n",
      "Call Price Black-Scholes:  6.096736604446896\n",
      "Put Price Black-Scholes:  5.847048844192912\n"
     ]
    }
   ],
   "source": [
    "print(\"For S0=100, K=100, T=.25, r=1%, volatility=30%, N=20, and a given function F(S):\")\n",
    "print(\"Call Price Binomial: \",binomialmod(100,.25,.01,.3,callfunct(100),20))\n",
    "print(\"Put Price Binomial: \",binomialmod(100,.25,.01,.3,putfunct(100),20))\n",
    "print(\"Call Price Black-Scholes: \",call_pricebsm(.3,100,100,.01,.25))\n",
    "print(\"Put Price Black-Scholes: \",put_pricebsm(.3,100,100,.01,.25))"
   ]
  },
  {
   "cell_type": "markdown",
   "id": "7de86942",
   "metadata": {},
   "source": [
    "### For Strike Price of 105:"
   ]
  },
  {
   "cell_type": "code",
   "execution_count": 125,
   "id": "296e7ed0",
   "metadata": {},
   "outputs": [
    {
     "name": "stdout",
     "output_type": "stream",
     "text": [
      "For S0=100, K=105, T=.25, r=1%, volatility=10%, N=10, and a given function F(S):\n",
      "Call Price Binomial:  0.5127190665277186\n",
      "Put Price Binomial:  5.250546918260978\n",
      "Call Price Black-Scholes:  0.48996585353435407\n",
      "Put Price Black-Scholes:  5.227793705267672\n"
     ]
    }
   ],
   "source": [
    "print(\"For S0=100, K=105, T=.25, r=1%, volatility=10%, N=10, and a given function F(S):\")\n",
    "print(\"Call Price Binomial: \",binomialmod(100,.25,.01,.1,callfunct(105),10))\n",
    "print(\"Put Price Binomial: \",binomialmod(100,.25,.01,.1,putfunct(105),10))\n",
    "print(\"Call Price Black-Scholes: \",call_pricebsm(.1,100,105,.01,.25))\n",
    "print(\"Put Price Black-Scholes: \",put_pricebsm(.1,100,105,.01,.25))"
   ]
  },
  {
   "cell_type": "code",
   "execution_count": 126,
   "id": "63fafb8a",
   "metadata": {},
   "outputs": [
    {
     "name": "stdout",
     "output_type": "stream",
     "text": [
      "For S0=100, K=105, T=.25, r=1%, volatility=10%, N=20, and a given function F(S):\n",
      "Call Price Binomial:  0.4855605471369956\n",
      "Put Price Binomial:  5.223388398870572\n",
      "Call Price Black-Scholes:  0.48996585353435407\n",
      "Put Price Black-Scholes:  5.227793705267672\n"
     ]
    }
   ],
   "source": [
    "print(\"For S0=100, K=105, T=.25, r=1%, volatility=10%, N=20, and a given function F(S):\")\n",
    "print(\"Call Price Binomial: \",binomialmod(100,.25,.01,.1,callfunct(105),20))\n",
    "print(\"Put Price Binomial: \",binomialmod(100,.25,.01,.1,putfunct(105),20))\n",
    "print(\"Call Price Black-Scholes: \",call_pricebsm(.1,100,105,.01,.25))\n",
    "print(\"Put Price Black-Scholes: \",put_pricebsm(.1,100,105,.01,.25))"
   ]
  },
  {
   "cell_type": "code",
   "execution_count": 127,
   "id": "88a76649",
   "metadata": {},
   "outputs": [
    {
     "name": "stdout",
     "output_type": "stream",
     "text": [
      "For S0=100, K=105, T=.25, r=1%, volatility=20%, N=10, and a given function F(S):\n",
      "Call Price Binomial:  2.1789199978789666\n",
      "Put Price Binomial:  6.916747849612223\n",
      "Call Price Black-Scholes:  2.142580320135739\n",
      "Put Price Black-Scholes:  6.8804081718690355\n"
     ]
    }
   ],
   "source": [
    "print(\"For S0=100, K=105, T=.25, r=1%, volatility=20%, N=10, and a given function F(S):\")\n",
    "print(\"Call Price Binomial: \",binomialmod(100,.25,.01,.2,callfunct(105),10))\n",
    "print(\"Put Price Binomial: \",binomialmod(100,.25,.01,.2,putfunct(105),10))\n",
    "print(\"Call Price Black-Scholes: \",call_pricebsm(.2,100,105,.01,.25))\n",
    "print(\"Put Price Black-Scholes: \",put_pricebsm(.2,100,105,.01,.25))"
   ]
  },
  {
   "cell_type": "code",
   "execution_count": 128,
   "id": "f78427cc",
   "metadata": {},
   "outputs": [
    {
     "name": "stdout",
     "output_type": "stream",
     "text": [
      "For S0=100, K=105, T=.25, r=1%, volatility=20%, N=20, and a given function F(S):\n",
      "Call Price Binomial:  2.121360352108116\n",
      "Put Price Binomial:  6.859188203841704\n",
      "Call Price Black-Scholes:  2.142580320135739\n",
      "Put Price Black-Scholes:  6.8804081718690355\n"
     ]
    }
   ],
   "source": [
    "print(\"For S0=100, K=105, T=.25, r=1%, volatility=20%, N=20, and a given function F(S):\")\n",
    "print(\"Call Price Binomial: \",binomialmod(100,.25,.01,.2,callfunct(105),20))\n",
    "print(\"Put Price Binomial: \",binomialmod(100,.25,.01,.2,putfunct(105),20))\n",
    "print(\"Call Price Black-Scholes: \",call_pricebsm(.2,100,105,.01,.25))\n",
    "print(\"Put Price Black-Scholes: \",put_pricebsm(.2,100,105,.01,.25))"
   ]
  },
  {
   "cell_type": "code",
   "execution_count": 129,
   "id": "d56db96c",
   "metadata": {},
   "outputs": [
    {
     "name": "stdout",
     "output_type": "stream",
     "text": [
      "For S0=100, K=105, T=.25, r=1%, volatility=30%, N=10, and a given function F(S):\n",
      "Call Price Binomial:  4.181563754232195\n",
      "Put Price Binomial:  8.919391605965494\n",
      "Call Price Black-Scholes:  4.039769415489424\n",
      "Put Price Black-Scholes:  8.777597267222724\n"
     ]
    }
   ],
   "source": [
    "print(\"For S0=100, K=105, T=.25, r=1%, volatility=30%, N=10, and a given function F(S):\")\n",
    "print(\"Call Price Binomial: \",binomialmod(100,.25,.01,.3,callfunct(105),10))\n",
    "print(\"Put Price Binomial: \",binomialmod(100,.25,.01,.3,putfunct(105),10))\n",
    "print(\"Call Price Black-Scholes: \",call_pricebsm(.3,100,105,.01,.25))\n",
    "print(\"Put Price Black-Scholes: \",put_pricebsm(.3,100,105,.01,.25))"
   ]
  },
  {
   "cell_type": "code",
   "execution_count": 130,
   "id": "d26a310a",
   "metadata": {},
   "outputs": [
    {
     "name": "stdout",
     "output_type": "stream",
     "text": [
      "For S0=100, K=100, T=.25, r=1%, volatility=30%, N=20, and a given function F(S):\n",
      "Call Price Binomial:  4.082029732711541\n",
      "Put Price Binomial:  8.819857584445081\n",
      "Call Price Black-Scholes:  4.039769415489424\n",
      "Put Price Black-Scholes:  8.777597267222724\n"
     ]
    }
   ],
   "source": [
    "print(\"For S0=100, K=105, T=.25, r=1%, volatility=30%, N=20, and a given function F(S):\")\n",
    "print(\"Call Price Binomial: \",binomialmod(100,.25,.01,.3,callfunct(105),20))\n",
    "print(\"Put Price Binomial: \",binomialmod(100,.25,.01,.3,putfunct(105),20))\n",
    "print(\"Call Price Black-Scholes: \",call_pricebsm(.3,100,105,.01,.25))\n",
    "print(\"Put Price Black-Scholes: \",put_pricebsm(.3,100,105,.01,.25))"
   ]
  },
  {
   "cell_type": "markdown",
   "id": "be215d74",
   "metadata": {},
   "source": [
    "### For Strike Price of 110:"
   ]
  },
  {
   "cell_type": "code",
   "execution_count": 131,
   "id": "80548cba",
   "metadata": {},
   "outputs": [
    {
     "name": "stdout",
     "output_type": "stream",
     "text": [
      "For S0=100, K=110, T=.25, r=1%, volatility=10%, N=10, and a given function F(S):\n",
      "Call Price Binomial:  0.04365739724880866\n",
      "Put Price Binomial:  9.769000860969374\n",
      "Call Price Black-Scholes:  0.06480746505400914\n",
      "Put Price Black-Scholes:  9.790150928774622\n"
     ]
    }
   ],
   "source": [
    "print(\"For S0=100, K=110, T=.25, r=1%, volatility=10%, N=10, and a given function F(S):\")\n",
    "print(\"Call Price Binomial: \",binomialmod(100,.25,.01,.1,callfunct(110),10))\n",
    "print(\"Put Price Binomial: \",binomialmod(100,.25,.01,.1,putfunct(110),10))\n",
    "print(\"Call Price Black-Scholes: \",call_pricebsm(.1,100,110,.01,.25))\n",
    "print(\"Put Price Black-Scholes: \",put_pricebsm(.1,100,110,.01,.25))"
   ]
  },
  {
   "cell_type": "code",
   "execution_count": 132,
   "id": "b682993d",
   "metadata": {},
   "outputs": [
    {
     "name": "stdout",
     "output_type": "stream",
     "text": [
      "For S0=100, K=110, T=.25, r=1%, volatility=10%, N=20, and a given function F(S):\n",
      "Call Price Binomial:  0.06030617411886743\n",
      "Put Price Binomial:  9.78564963783975\n",
      "Call Price Black-Scholes:  0.06480746505400914\n",
      "Put Price Black-Scholes:  9.790150928774622\n"
     ]
    }
   ],
   "source": [
    "print(\"For S0=100, K=110, T=.25, r=1%, volatility=10%, N=20, and a given function F(S):\")\n",
    "print(\"Call Price Binomial: \",binomialmod(100,.25,.01,.1,callfunct(110),20))\n",
    "print(\"Put Price Binomial: \",binomialmod(100,.25,.01,.1,putfunct(110),20))\n",
    "print(\"Call Price Black-Scholes: \",call_pricebsm(.1,100,110,.01,.25))\n",
    "print(\"Put Price Black-Scholes: \",put_pricebsm(.1,100,110,.01,.25))"
   ]
  },
  {
   "cell_type": "code",
   "execution_count": 133,
   "id": "862103bb",
   "metadata": {},
   "outputs": [
    {
     "name": "stdout",
     "output_type": "stream",
     "text": [
      "For S0=100, K=110, T=.25, r=1%, volatility=20%, N=10, and a given function F(S):\n",
      "Call Price Binomial:  1.0459011419259476\n",
      "Put Price Binomial:  10.771244605646507\n",
      "Call Price Black-Scholes:  0.9981520040860481\n",
      "Put Price Black-Scholes:  10.723495467806657\n"
     ]
    }
   ],
   "source": [
    "print(\"For S0=100, K=110, T=.25, r=1%, volatility=20%, N=10, and a given function F(S):\")\n",
    "print(\"Call Price Binomial: \",binomialmod(100,.25,.01,.2,callfunct(110),10))\n",
    "print(\"Put Price Binomial: \",binomialmod(100,.25,.01,.2,putfunct(110),10))\n",
    "print(\"Call Price Black-Scholes: \",call_pricebsm(.2,100,110,.01,.25))\n",
    "print(\"Put Price Black-Scholes: \",put_pricebsm(.2,100,110,.01,.25))"
   ]
  },
  {
   "cell_type": "code",
   "execution_count": 134,
   "id": "6b416e53",
   "metadata": {},
   "outputs": [
    {
     "name": "stdout",
     "output_type": "stream",
     "text": [
      "For S0=100, K=110, T=.25, r=1%, volatility=20%, N=20, and a given function F(S):\n",
      "Call Price Binomial:  0.9811317984708214\n",
      "Put Price Binomial:  10.706475262191717\n",
      "Call Price Black-Scholes:  0.9981520040860481\n",
      "Put Price Black-Scholes:  10.723495467806657\n"
     ]
    }
   ],
   "source": [
    "print(\"For S0=100, K=110, T=.25, r=1%, volatility=20%, N=20, and a given function F(S):\")\n",
    "print(\"Call Price Binomial: \",binomialmod(100,.25,.01,.2,callfunct(110),20))\n",
    "print(\"Put Price Binomial: \",binomialmod(100,.25,.01,.2,putfunct(110),20))\n",
    "print(\"Call Price Black-Scholes: \",call_pricebsm(.2,100,110,.01,.25))\n",
    "print(\"Put Price Black-Scholes: \",put_pricebsm(.2,100,110,.01,.25))"
   ]
  },
  {
   "cell_type": "code",
   "execution_count": 135,
   "id": "2d3abf3e",
   "metadata": {},
   "outputs": [
    {
     "name": "stdout",
     "output_type": "stream",
     "text": [
      "For S0=100, K=110, T=.25, r=1%, volatility=30%, N=10, and a given function F(S):\n",
      "Call Price Binomial:  2.4231612519937276\n",
      "Put Price Binomial:  12.148504715714328\n",
      "Call Price Black-Scholes:  2.5665248867790886\n",
      "Put Price Black-Scholes:  12.291868350499698\n"
     ]
    }
   ],
   "source": [
    "print(\"For S0=100, K=110, T=.25, r=1%, volatility=30%, N=10, and a given function F(S):\")\n",
    "print(\"Call Price Binomial: \",binomialmod(100,.25,.01,.3,callfunct(110),10))\n",
    "print(\"Put Price Binomial: \",binomialmod(100,.25,.01,.3,putfunct(110),10))\n",
    "print(\"Call Price Black-Scholes: \",call_pricebsm(.3,100,110,.01,.25))\n",
    "print(\"Put Price Black-Scholes: \",put_pricebsm(.3,100,110,.01,.25))"
   ]
  },
  {
   "cell_type": "code",
   "execution_count": 136,
   "id": "1552f48d",
   "metadata": {},
   "outputs": [
    {
     "name": "stdout",
     "output_type": "stream",
     "text": [
      "For S0=100, K=110, T=.25, r=1%, volatility=30%, N=20, and a given function F(S):\n",
      "Call Price Binomial:  2.6172621606102147\n",
      "Put Price Binomial:  12.34260562433106\n",
      "Call Price Black-Scholes:  2.5665248867790886\n",
      "Put Price Black-Scholes:  12.291868350499698\n"
     ]
    }
   ],
   "source": [
    "print(\"For S0=100, K=110, T=.25, r=1%, volatility=30%, N=20, and a given function F(S):\")\n",
    "print(\"Call Price Binomial: \",binomialmod(100,.25,.01,.3,callfunct(110),20))\n",
    "print(\"Put Price Binomial: \",binomialmod(100,.25,.01,.3,putfunct(110),20))\n",
    "print(\"Call Price Black-Scholes: \",call_pricebsm(.3,100,110,.01,.25))\n",
    "print(\"Put Price Black-Scholes: \",put_pricebsm(.3,100,110,.01,.25))"
   ]
  },
  {
   "cell_type": "markdown",
   "id": "a1fc5bbb",
   "metadata": {},
   "source": [
    "## Summary of Work Done:"
   ]
  },
  {
   "cell_type": "markdown",
   "id": "504f120c",
   "metadata": {},
   "source": [
    "We initially begin this project by importing all of our important libraries included in python- i.e. Numpy, Math, and Pandas. We also import pieces of the scipy library as well.\n",
    "\n",
    "For question 1, we start off by declaring the equations we will be using to solve for the probabilties later in the problem (so that we don't need to keep declaring them every time we try to solve for a probability for each of our stocks). \n",
    "\n",
    "We then go into the analysis of our first stock, Adobe, where we use the pandas library to import the csv of the stocks downloaded from Yahoo Finance for the previous three months. After the import, we print the first few rows of the dataframe to ensure it imported properly. We then caclulate the daily returns for the stocks, and plot the resulting set of values in a histogram consisting of 15 bins each (this same initial process up until the histogram plot will be repeated for both Delta Airlines and Netflix stocks). \n",
    "\n",
    "Next, we begin to calculate our mu and sigma by finding the mean of the daily returns, and then multiplying by 252 to obtain our mu, which we then printed out and converted to a percentage. For Adobe, our resulting mu was -16.2343%. We then find our sigma by finding the variance of the daily returns, multiplying by 252, then taking the square root. We then also converted to a percentage and printed the result. Our sigma for Adobe was 19.9252%. Using the Arithmetic mu and sigma, we found the probabilities requested through our declared equations from the beginning of the problem, where for Adobe, for S(.25) our probability was .4446, and for S(.5) our probability was .4532. We then go on to calculate our log returns by taking the log of the ratio of the day's return over the previous day's return. We then multiply the mean of those returns by 252 to obtain a mu for the Log Returns that is -18.2129% for Adobe. Similarly, we take the square root of the variance multiplied by 252 to get our Log Sigma which is 20.0671%. Next, we find the probabilities using our log mu and sigma which are .6319 for S(.25) and .4354 for S(.5).\n",
    "\n",
    "This process was again repeated for Delta Airlines. Where our Arithmetic Mu was 31.13158% and our Arithmetic Sigma was 36.8998%. Our resulting probabilities for Arithmetic Mu and Sigma were .2837 for S(.25) and .2533 for S(.5). Similarly to Adobe, we also find our Log Mu and Log Sigma, which are 24.4451% and 36.7905% respectively, giving us a resulting probability of .3938 for S(.25) and .2664 for S(.5) as well.\n",
    "\n",
    "We finally once again repeated the same process as Adobe and Delta Airlines for Netflix. This gave us a Mu of 68.9462% and Sigma of 22.76403%, resulting in probabilties of .2527 for S(.25) and .0622 for S(.5). And again we find our Log Mu and Log Sigma which are 66.3328% and 22.5902% respectively. This gives us probabilities .2716 for S(.25) and .0700 for S(.5).\n",
    "\n",
    "We finally wrap up with a discussion of what the Arithmetic probabilities mean, and why they are important. We then discuss the difference between the Arithmetic Return and Logarithmic Returns to conclude question 2.\n",
    "\n",
    "\n",
    "For Question 2, we declare a function binomialmod that takes the variables S0 for initial stock value, Time for time to expiry, rfi for risk-free interest rate, sig for our volatility, FS for the function that will determine whether the model will find a call, put, futures contract, any desired function can be input into FS, and then finally Nstep for the number of steps we want to take. Within the function, we declare deltat to be equal to T/N. We also declare uval to be equal to e^(sig * sqrt(deltat)). We then declare dval=1/uval, pval = (e^(rfi * deltat) - dval)/(uval - dval), and then set a result = empty array = Res, where for a in range of (0,Nstep+1), our Res[(Nstep, aval)] = FS(S0 * (uval^(2aval - Nstep))), and then bval in range of (Nstep-1, -1, -1), for an evl in range of (0,bval+1), we find Res[(bval,evl)] = e^(-rfi * deltat) * (pval * Res[(bval+1,evl+1)] + (1 - p) * Res[(bval+1,evl)], we finally return our value for Res[(0,0)].\n",
    "\n",
    "We then declare three other functions. A callfunct, putfunct, and futuresfunct. Each of these functions only take K as an input, K being the strike price. We find callfunct to just return lambda S: max(S-K, 0), our putfunct to return lambda S: max(K-S, 0), and then our futuresfunct to return lambda S: (S-K). We use our call and put functions in number 3, but we declare futures to show that our binommod function can take any desired FS, and not just Call and Put. All of this concludes question 2.\n",
    "\n",
    "\n",
    "For Question 3, we first declare a Black-Scholes Model to compare the results of our binomialmod function to. The Black-Scholes Model consists of two separate functions, Call and Put. Our call function take the inputs (sigma, S0, K, r, T) where sigma = volatility, S0 = Initial stock price, K = Strike Price, r = Risk-free interest rate, and T = Time to expiry. (We also state that our put function takes the exact same variables). For call_pricebsm, we declare d1 d2, and Call, where we return the value of Call. For put_pricebsm, we similarly declare d1 and d2, but we instead declare Put and return the value of Put.\n",
    "\n",
    "We finally bring this all together by using the given strike prices 90, 95, 100, 105, and 110, and the volatilities of 10%, 20%, and 30%, with the N-steps being 10 and 20. Given the combination of these variables, we obtain 30 different results that show that our binomial model is quite similar to the Black-Scholes model, being recognizably close to each other. Seeing this, we conclude question 3."
   ]
  }
 ],
 "metadata": {
  "kernelspec": {
   "display_name": "Python 3",
   "language": "python",
   "name": "python3"
  },
  "language_info": {
   "codemirror_mode": {
    "name": "ipython",
    "version": 3
   },
   "file_extension": ".py",
   "mimetype": "text/x-python",
   "name": "python",
   "nbconvert_exporter": "python",
   "pygments_lexer": "ipython3",
   "version": "3.8.8"
  }
 },
 "nbformat": 4,
 "nbformat_minor": 5
}
